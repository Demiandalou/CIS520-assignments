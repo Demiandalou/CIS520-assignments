{
  "nbformat": 4,
  "nbformat_minor": 0,
  "metadata": {
    "colab": {
      "name": "hw4.ipynb",
      "provenance": [],
      "collapsed_sections": [],
      "toc_visible": true
    },
    "kernelspec": {
      "display_name": "Python 3",
      "language": "python",
      "name": "python3"
    },
    "language_info": {
      "codemirror_mode": {
        "name": "ipython",
        "version": 3
      },
      "file_extension": ".py",
      "mimetype": "text/x-python",
      "name": "python",
      "nbconvert_exporter": "python",
      "pygments_lexer": "ipython3",
      "version": "3.6.7"
    }
  },
  "cells": [
    {
      "cell_type": "markdown",
      "metadata": {
        "id": "KAqXcDzKwj4D"
      },
      "source": [
        "# Homework 4: Coding\n",
        "\n",
        "**Due Monday October 10th, 11:59pm.**\n",
        "\n",
        "\n",
        "**In order to avoid module version issues, please complete this assignment on Colab.**\n",
        "\n",
        "**Submit hw4.ipynb file to Gradescope (note there is no autograder for this assignment).**"
      ]
    },
    {
      "cell_type": "code",
      "metadata": {
        "id": "mqy1LtZCIQuG"
      },
      "source": [
        "\"\"\"\n",
        "Import libraries that you might require\n",
        "\"\"\"\n",
        "\n",
        "import numpy as np\n",
        "import math\n",
        "import matplotlib.pyplot as plt\n",
        "import operator\n",
        "from sklearn.metrics import accuracy_score\n",
        "import sklearn.model_selection as ms\n",
        "\n",
        "\n",
        "from sklearn.ensemble import RandomForestClassifier\n",
        "from sklearn.svm import SVC\n",
        "from sklearn.neural_network import MLPClassifier\n",
        "from sklearn.tree import DecisionTreeClassifier\n",
        "from sklearn.ensemble import AdaBoostClassifier\n"
      ],
      "execution_count": null,
      "outputs": []
    },
    {
      "cell_type": "code",
      "metadata": {
        "id": "5qmuIim2IQuK",
        "colab": {
          "base_uri": "https://localhost:8080/"
        },
        "outputId": "6105aada-1f34-4506-a7d4-441a95194484"
      },
      "source": [
        "\"\"\"\n",
        "Load data (MNIST digits dataset).\n",
        "\n",
        "Note that we will skip the validation phase for\n",
        "this exercise as by now you are pretty familiar with the typical Machine Learning\n",
        "pipeline.\n",
        "\"\"\"\n",
        "\n",
        "from sklearn.datasets import load_digits\n",
        "digits = load_digits()\n",
        "print(digits.data.shape)\n",
        "\n",
        "X = digits['data']\n",
        "y = digits['target']\n",
        "\n",
        "np.random.seed(100)\n",
        "p = np.random.permutation(len(X))\n",
        "X, y = X[p], y[p]\n",
        "\n",
        "X_train, y_train = X[:1500], y[:1500]\n",
        "X_test, y_test = X[1500:], y[1500:]\n"
      ],
      "execution_count": null,
      "outputs": [
        {
          "output_type": "stream",
          "name": "stdout",
          "text": [
            "(1797, 64)\n"
          ]
        }
      ]
    },
    {
      "cell_type": "markdown",
      "metadata": {
        "id": "U9fIU8eP_X1u"
      },
      "source": [
        "# Question 3.2 Convolutional Neural Networks  \n",
        "In this assignment you will be training a Convolutional Neural Network on  \n",
        "the Fashion MNIST dataset.  \n",
        "\n",
        "You may find more information about the dataset [here](https://github.com/zalandoresearch/fashion-mnist).  \n",
        "For this assignment we have already loaded the dataset for you.  \n",
        "  \n",
        "You will be using PyTorch for implementing your CNN. \n",
        "\n",
        "**We highly recommend following [this tutorial](https://pytorch.org/tutorials/beginner/blitz/cifar10_tutorial.html#sphx-glr-beginner-blitz-cifar10-tutorial-py) for this question** as well as referring to the [official documentation](https://pytorch.org/docs/stable/nn.html) if you are unfamiliar with Pytorch."
      ]
    },
    {
      "cell_type": "markdown",
      "metadata": {
        "id": "mL1q9V0O13B6"
      },
      "source": [
        "## Setup: Load Tensorboard\n",
        "\n",
        "The below code is used to load [Tensorboard](https://www.tensorflow.org/guide/summaries_and_tensorboard), which is used to visualize the training and execution of your neural network.\n",
        "\n",
        "Run the below cells and click on the Tensorboard link produced by the third cell below while your network is training (Section 3.2.5) to plot the accuracy and loss curves."
      ]
    },
    {
      "cell_type": "code",
      "metadata": {
        "id": "XWS884Qt13Bd",
        "colab": {
          "base_uri": "https://localhost:8080/"
        },
        "outputId": "410dbda9-4720-48bd-b432-73dd773132a0"
      },
      "source": [
        "!rm -r -f ./logs\n",
        "\n",
        "LOG_DIR = './logs'\n",
        "get_ipython().system_raw(\n",
        "    'tensorboard --logdir {} --host 0.0.0.0 --port 6006 &'\n",
        "    .format(LOG_DIR)\n",
        ")\n",
        "\n",
        "!if [ -f ngrok ] ; then echo \"Ngrok already installed\" ; else wget https://bin.equinox.io/c/4VmDzA7iaHb/ngrok-stable-linux-amd64.zip > /dev/null 2>&1 && unzip ngrok-stable-linux-amd64.zip > /dev/null 2>&1 ; fi"
      ],
      "execution_count": null,
      "outputs": [
        {
          "output_type": "stream",
          "name": "stdout",
          "text": [
            "Ngrok already installed\n"
          ]
        }
      ]
    },
    {
      "cell_type": "code",
      "metadata": {
        "id": "rvbnO1JX13BO"
      },
      "source": [
        "get_ipython().system_raw('./ngrok http 6006 &')"
      ],
      "execution_count": null,
      "outputs": []
    },
    {
      "cell_type": "code",
      "metadata": {
        "id": "w0lafkzw13Ak",
        "colab": {
          "base_uri": "https://localhost:8080/"
        },
        "outputId": "247c4735-d1ed-4960-9166-7d924e6e193a"
      },
      "source": [
        "! curl -s http://localhost:4040/api/tunnels | python3 -c \\\n",
        "    \"import sys, json; print('Tensorboard Link: ' +str(json.load(sys.stdin)['tunnels'][0]['public_url']))\""
      ],
      "execution_count": null,
      "outputs": [
        {
          "output_type": "stream",
          "name": "stdout",
          "text": [
            "Tensorboard Link: http://07ed-35-234-9-125.ngrok.io\n"
          ]
        }
      ]
    },
    {
      "cell_type": "markdown",
      "metadata": {
        "id": "HSeELIRYjGSG"
      },
      "source": [
        "## Setup: Logger\n",
        "\n",
        "Please look at the functions the logger class provides. You may use them to log   \n",
        "training metrics like loss, accuracy and even some selected images and their  \n",
        "labels to see how network parameters change during training."
      ]
    },
    {
      "cell_type": "code",
      "metadata": {
        "id": "ipIykcBHt1dk"
      },
      "source": [
        "# Code referenced from https://gist.github.com/gyglim/1f8dfb1b5c82627ae3efcfbbadb9f514\n",
        "import tensorflow as tf\n",
        "import numpy as np\n",
        "import scipy.misc \n",
        "try:\n",
        "    from StringIO import StringIO  # Python 2.7\n",
        "except ImportError:\n",
        "    from io import BytesIO         # Python 3.x\n",
        "\n",
        "\n",
        "class Logger(object):\n",
        "    \n",
        "    def __init__(self, log_dir):\n",
        "        \"\"\"Create a summary writer logging to log_dir.\"\"\"\n",
        "        self.writer = tf.summary.create_file_writer(log_dir)\n",
        "\n",
        "    def scalar_summary(self, tag, value, step):\n",
        "        \"\"\"Log a scalar variable.\"\"\"\n",
        "        with self.writer.as_default():\n",
        "            tf.summary.scalar(name=tag, data=value, step=step)\n",
        "        self.writer.flush()\n",
        "\n",
        "    def image_summary(self, tag, images, step):\n",
        "        \"\"\"Log a list of images.\"\"\"\n",
        "\n",
        "        for i, img in enumerate(images):\n",
        "            # Write the image to a string\n",
        "            try:\n",
        "                s = StringIO()\n",
        "            except:\n",
        "                s = BytesIO()\n",
        "            scipy.misc.toimage(img).save(s, format=\"png\")\n",
        "\n",
        "            # Create an Image object as a Summary value\n",
        "            with self.writer.as_default():\n",
        "                tf.summary.image(name='%s/%d' % (tag, i), data=s.getvalue(), step=step)\n",
        "\n",
        "        # Create and write Summary\n",
        "        self.writer.flush()\n",
        "        \n",
        "    def histo_summary(self, tag, values, step, bins=1000):\n",
        "        \"\"\"Log a histogram of the tensor of values.\"\"\"\n",
        "\n",
        "        # Create a histogram using numpy\n",
        "        counts, bin_edges = np.histogram(values, bins=bins)\n",
        "\n",
        "        # Fill the fields of the histogram proto\n",
        "        hist = tf.HistogramProto()\n",
        "        hist.min = float(np.min(values))\n",
        "        hist.max = float(np.max(values))\n",
        "        hist.num = int(np.prod(values.shape))\n",
        "        hist.sum = float(np.sum(values))\n",
        "        hist.sum_squares = float(np.sum(values**2))\n",
        "\n",
        "        # Drop the start of the first bin\n",
        "        bin_edges = bin_edges[1:]\n",
        "\n",
        "        # Add bin edges and counts\n",
        "        for edge in bin_edges:\n",
        "            hist.bucket_limit.append(edge)\n",
        "        for c in counts:\n",
        "            hist.bucket.append(c)\n",
        "\n",
        "        # Create and write Summary\n",
        "        with self.writer.as_default():\n",
        "            tf.summary.histogram(name=tag, data=hist, step=step)\n",
        "        self.writer.flush()\n",
        "logger = Logger('./logs')"
      ],
      "execution_count": null,
      "outputs": []
    },
    {
      "cell_type": "code",
      "metadata": {
        "id": "UIkuagd9_X1v"
      },
      "source": [
        "import torch\n",
        "import torchvision\n",
        "from torchvision import datasets, transforms"
      ],
      "execution_count": null,
      "outputs": []
    },
    {
      "cell_type": "markdown",
      "metadata": {
        "id": "qvDAZByo_X1w"
      },
      "source": [
        "##3.2.1 Loading the Dataset\n",
        "The output of torchvision datasets are PILImage images of range [0, 1].  \n",
        "We transform them to Tensors of normalized range [-1, 1].  \n",
        "```Transforms.Normalize((mean,),(std,))``` basically manipulates the values of a pixel such that  \n",
        "$$New\\_Value = \\frac{Old\\_Value - Mean}{Std}$$\n",
        "\n"
      ]
    },
    {
      "cell_type": "code",
      "metadata": {
        "id": "lK7aviwP_X1x"
      },
      "source": [
        "# Define a transform to normalize the data\n",
        "\n",
        "#TODO : Set the value of mean and the standard deviation to \n",
        "#       normalize the image from range [0,1] to the range [-1, 1]\n",
        "\n",
        "\n",
        "#Begin Your Code\n",
        "\n",
        "mean = 0.5\n",
        "std = 0.5\n",
        "\n",
        "#End Your Code\n",
        "\n",
        "transform = transforms.Compose([transforms.ToTensor(),\n",
        "                                transforms.Normalize((mean,), (std,))\n",
        "                                ])\n",
        "\n",
        "\n",
        "#TODO : Select suitable value of batch_sizes.\n",
        "\n",
        "#Begin Your Code\n",
        "\n",
        "train_batch_size = 30\n",
        "test_batch_size = 30\n",
        "\n",
        "#End Your Code\n",
        "\n",
        "# Download and load the training data\n",
        "trainset = datasets.FashionMNIST('~/.pytorch/F_MNIST_data/', download=True, train=True, transform=transform)\n",
        "trainloader = torch.utils.data.DataLoader(trainset, batch_size=train_batch_size, shuffle=True)\n",
        "\n",
        "# Download and load the test data\n",
        "testset = datasets.FashionMNIST('~/.pytorch/F_MNIST_data/', download=True, train=False, transform=transform)\n",
        "testloader = torch.utils.data.DataLoader(testset, batch_size=test_batch_size, shuffle=True)\n",
        "\n",
        "\n",
        "# Classes\n",
        "classes = {       0 :'T-shirt/top',\n",
        "                  1 :'Trouser',\n",
        "                  2 :'Pullover',\n",
        "                  3 :'Dress',\n",
        "                  4 :'Coat',\n",
        "                  5 :'Sandal',\n",
        "                  6 :'Shirt',\n",
        "                  7 :'Sneaker',\n",
        "                  8 :'Bag',\n",
        "                  9 :'Ankle boot'}"
      ],
      "execution_count": null,
      "outputs": []
    },
    {
      "cell_type": "markdown",
      "metadata": {
        "id": "SFBh6ZhO_X1y"
      },
      "source": [
        "##3.2.2 The Dataset\n",
        "Here we show some images of the dataset.  \n",
        "See how many of the categories can you recognise.\n",
        "\n"
      ]
    },
    {
      "cell_type": "code",
      "metadata": {
        "id": "hX5Irrw-_X1z",
        "colab": {
          "base_uri": "https://localhost:8080/",
          "height": 515
        },
        "outputId": "fefb9185-2192-4015-e44e-8d47f7fd2489"
      },
      "source": [
        "import matplotlib.pyplot as plt\n",
        "from matplotlib.pyplot import figure\n",
        "import numpy as np\n",
        "\n",
        "# Functions to show an image\n",
        "\n",
        "\n",
        "def imshow(img):\n",
        "    img = img / 2 + 0.5     # unnormalize\n",
        "    npimg = img.numpy()\n",
        "    \n",
        "    figure(num=None, figsize=(8, 6), dpi=150, edgecolor='k')\n",
        "    plt.axis('off')\n",
        "    plt.imshow(np.transpose(npimg, (1, 2, 0)))\n",
        "\n",
        "\n",
        "# get some random training images\n",
        "dataiter = iter(trainloader)\n",
        "images, labels = dataiter.next()\n",
        "\n",
        "# show images\n",
        "imshow(torchvision.utils.make_grid(images))"
      ],
      "execution_count": null,
      "outputs": [
        {
          "output_type": "display_data",
          "data": {
            "image/png": "[encoded data removed]",
            "text/plain": [
              "<Figure size 1200x900 with 1 Axes>"
            ]
          },
          "metadata": {
            "needs_background": "light"
          }
        }
      ]
    },
    {
      "cell_type": "markdown",
      "metadata": {
        "id": "le9N91sO_X11"
      },
      "source": [
        "##3.2.3 Create your Convolutional Neural Network\n",
        "Create the CNN with layers and hyperparameter sets as mentioned in the LaTeX pdf for full credit.  \n",
        "You are, however, free to change the architecture as long as you achieve accuracy better than the architecture shown in the LaTeX pdf.\n",
        "\n"
      ]
    },
    {
      "cell_type": "code",
      "metadata": {
        "id": "dWmqB-1b_X11"
      },
      "source": [
        "import torch.nn as nn\n",
        "import torch.nn.functional as F\n",
        "\n",
        "\n",
        "class Net(nn.Module):\n",
        "    def __init__(self):\n",
        "        super(Net, self).__init__()\n",
        "\n",
        "        #TODO : Design your network, you are allowed to explore your own architecture\n",
        "        #       But you should achieve a better overall accuracy than the baseline network.\n",
        "        #       Also, if you do design your own network, include an explanation \n",
        "        #       for your choice of network and how it may be better than the \n",
        "        #       baseline network in your latex.\n",
        "        \n",
        "        #Begin Your Code\n",
        "        self.conv_1 = nn.Conv2d(in_channels=1, out_channels=32, kernel_size=5, stride=1, padding=2)\n",
        "        self.max_pool2d = nn.MaxPool2d(kernel_size=2, stride=2, padding=0)\n",
        "        self.conv_2 = nn.Conv2d(in_channels=32, out_channels=32,kernel_size=5, stride = 1, padding=2)\n",
        "        self.conv_3 = nn.Conv2d(in_channels=32, out_channels=64, kernel_size=5, stride=1, padding=2)\n",
        "        self.linear_1 = nn.Linear(64*3*3, 64)\n",
        "        self.linear_2 = nn.Linear(64, 10)\n",
        "        self.dropout = nn.Dropout(0.1)\n",
        "        self.relu = nn.ReLU()\n",
        "\n",
        "\n",
        "        #End Your Code\n",
        "\n",
        "    def forward(self, x):\n",
        "\n",
        "      #TODO : Implement the forward function that applies the layers you have created to the input\n",
        "\n",
        "      #Begin Your Code\n",
        "      x = self.relu(self.conv_1(x))\n",
        "      x = self.max_pool2d(x)\n",
        "      x = self.relu(self.conv_2(x))\n",
        "      x = self.max_pool2d(x)\n",
        "      x = self.relu(self.conv_3(x))\n",
        "      x = self.max_pool2d(x)\n",
        "      x = x.reshape(x.size(0), -1)\n",
        "      x = self.dropout(x)\n",
        "      x = self.relu(self.linear_1(x))\n",
        "      x = self.linear_2(x)\n",
        "      return x\n",
        "      #End Your Code\n",
        "\n",
        "\n",
        "net = Net()"
      ],
      "execution_count": null,
      "outputs": []
    },
    {
      "cell_type": "markdown",
      "metadata": {
        "id": "jieF6xy__X13"
      },
      "source": [
        "##3.2.4 Define a Loss function and optimizer\n",
        "We will be using [Cross Entropy Loss](https://pytorch.org/docs/stable/nn.html?highlight=crossentropyloss#torch.nn.CrossEntropyLoss) and [Adam optimizer](https://pytorch.org/docs/stable/optim.html?highlight=adam#torch.optim.Adam).  \n",
        "Note: PyTorch's CrossEntropyLoss combines log softmax and negative log likelihood loss in one class. Make sure you are not computing softmax twice.\n",
        "\n"
      ]
    },
    {
      "cell_type": "code",
      "metadata": {
        "id": "_5-Qn1ef_X13"
      },
      "source": [
        "import torch.optim as optim\n",
        "\n",
        "#TODO : Use appropriate loss criterion and optimizer \n",
        "\n",
        "#Begin Your Code\n",
        "\n",
        "criterion = nn.CrossEntropyLoss()\n",
        "optimizer = optim.Adam(net.parameters(), lr=0.001)\n",
        "\n",
        "\n",
        "#End Your Code"
      ],
      "execution_count": null,
      "outputs": []
    },
    {
      "cell_type": "markdown",
      "metadata": {
        "id": "D4za3t0b_X15"
      },
      "source": [
        "##3.2.5. Train the network\n",
        "\n",
        "Here we are going to train the network while logging the per batch metrics.  \n",
        "This would take some time to run (5-10 minutes).\n",
        "\n"
      ]
    },
    {
      "cell_type": "code",
      "metadata": {
        "id": "r7y1qZI1wyvv",
        "colab": {
          "base_uri": "https://localhost:8080/"
        },
        "outputId": "63932113-10df-46db-e9ae-8ac25f1e7eba"
      },
      "source": [
        "overall_step = 0\n",
        "\n",
        "#TODO : Select appropriate number of epochs\n",
        "\n",
        "#Begin Your Code\n",
        "\n",
        "epochs = 10\n",
        "\n",
        "#End Your Code\n",
        "correct = 0\n",
        "total = 0\n",
        "\n",
        "for epoch in range(epochs):  # loop over the dataset multiple times\n",
        "    running_loss = 0\n",
        "    for i, data in enumerate(trainloader, 0):\n",
        "        # get the inputs\n",
        "        inputs, labels = data\n",
        "\n",
        "        #TODO : Make predictions, calculate accuracy and update your weights once\n",
        "\n",
        "        #Begin Your Code\n",
        "\n",
        "        # zero the parameter gradients\n",
        "        optimizer.zero_grad()\n",
        "        # forward + backward + optimize\n",
        "        pred = net(inputs)\n",
        "        loss = criterion(pred, labels)\n",
        "        pred_result = pred.argmax(dim=1)\n",
        "        correct += pred_result.eq(labels).float().sum()\n",
        "        total += train_batch_size\n",
        "        accuracy = correct / total\n",
        "        loss.backward()\n",
        "        optimizer.step()\n",
        "        #End Your Code\n",
        "\n",
        "        # print statistics\n",
        "        running_loss += loss.item()\n",
        "        if i % 200 == 199:    # print every 200 mini-batches\n",
        "            print('Epoch: %d, Batch: %5d, loss: %.3f' %\n",
        "                  (epoch + 1, i + 1, running_loss / 200))\n",
        "            running_loss = 0.0\n",
        "            #Any thing that is added to the \"info\" gets plotted in tensorboard\n",
        "            #TODO : Add the plots in Tensorboard to the report and explain what is happening\n",
        "            info = {'loss' : loss.item(), 'accuracy': accuracy.item()}\n",
        "            for tag, value in info.items():\n",
        "                logger.scalar_summary(tag, value, overall_step)\n",
        "        \n",
        "        overall_step+=1\n",
        "\n",
        "print('Finished Training')"
      ],
      "execution_count": null,
      "outputs": [
        {
          "output_type": "stream",
          "name": "stdout",
          "text": [
            "Epoch: 1, Batch:   200, loss: 0.970\n",
            "Epoch: 1, Batch:   400, loss: 0.579\n",
            "Epoch: 1, Batch:   600, loss: 0.481\n",
            "Epoch: 1, Batch:   800, loss: 0.443\n",
            "Epoch: 1, Batch:  1000, loss: 0.412\n",
            "Epoch: 1, Batch:  1200, loss: 0.372\n",
            "Epoch: 1, Batch:  1400, loss: 0.374\n",
            "Epoch: 1, Batch:  1600, loss: 0.379\n",
            "Epoch: 1, Batch:  1800, loss: 0.350\n",
            "Epoch: 1, Batch:  2000, loss: 0.327\n",
            "Epoch: 2, Batch:   200, loss: 0.311\n",
            "Epoch: 2, Batch:   400, loss: 0.302\n",
            "Epoch: 2, Batch:   600, loss: 0.307\n",
            "Epoch: 2, Batch:   800, loss: 0.307\n",
            "Epoch: 2, Batch:  1000, loss: 0.301\n",
            "Epoch: 2, Batch:  1200, loss: 0.292\n",
            "Epoch: 2, Batch:  1400, loss: 0.291\n",
            "Epoch: 2, Batch:  1600, loss: 0.295\n",
            "Epoch: 2, Batch:  1800, loss: 0.282\n",
            "Epoch: 2, Batch:  2000, loss: 0.276\n",
            "Epoch: 3, Batch:   200, loss: 0.253\n",
            "Epoch: 3, Batch:   400, loss: 0.246\n",
            "Epoch: 3, Batch:   600, loss: 0.250\n",
            "Epoch: 3, Batch:   800, loss: 0.252\n",
            "Epoch: 3, Batch:  1000, loss: 0.250\n",
            "Epoch: 3, Batch:  1200, loss: 0.263\n",
            "Epoch: 3, Batch:  1400, loss: 0.247\n",
            "Epoch: 3, Batch:  1600, loss: 0.252\n",
            "Epoch: 3, Batch:  1800, loss: 0.255\n",
            "Epoch: 3, Batch:  2000, loss: 0.257\n",
            "Epoch: 4, Batch:   200, loss: 0.213\n",
            "Epoch: 4, Batch:   400, loss: 0.223\n",
            "Epoch: 4, Batch:   600, loss: 0.214\n",
            "Epoch: 4, Batch:   800, loss: 0.242\n",
            "Epoch: 4, Batch:  1000, loss: 0.221\n",
            "Epoch: 4, Batch:  1200, loss: 0.231\n",
            "Epoch: 4, Batch:  1400, loss: 0.218\n",
            "Epoch: 4, Batch:  1600, loss: 0.228\n",
            "Epoch: 4, Batch:  1800, loss: 0.239\n",
            "Epoch: 4, Batch:  2000, loss: 0.220\n",
            "Epoch: 5, Batch:   200, loss: 0.188\n",
            "Epoch: 5, Batch:   400, loss: 0.193\n",
            "Epoch: 5, Batch:   600, loss: 0.204\n",
            "Epoch: 5, Batch:   800, loss: 0.220\n",
            "Epoch: 5, Batch:  1000, loss: 0.187\n",
            "Epoch: 5, Batch:  1200, loss: 0.192\n",
            "Epoch: 5, Batch:  1400, loss: 0.211\n",
            "Epoch: 5, Batch:  1600, loss: 0.209\n",
            "Epoch: 5, Batch:  1800, loss: 0.209\n",
            "Epoch: 5, Batch:  2000, loss: 0.202\n",
            "Epoch: 6, Batch:   200, loss: 0.180\n",
            "Epoch: 6, Batch:   400, loss: 0.192\n",
            "Epoch: 6, Batch:   600, loss: 0.175\n",
            "Epoch: 6, Batch:   800, loss: 0.175\n",
            "Epoch: 6, Batch:  1000, loss: 0.190\n",
            "Epoch: 6, Batch:  1200, loss: 0.195\n",
            "Epoch: 6, Batch:  1400, loss: 0.186\n",
            "Epoch: 6, Batch:  1600, loss: 0.196\n",
            "Epoch: 6, Batch:  1800, loss: 0.182\n",
            "Epoch: 6, Batch:  2000, loss: 0.199\n",
            "Epoch: 7, Batch:   200, loss: 0.150\n",
            "Epoch: 7, Batch:   400, loss: 0.168\n",
            "Epoch: 7, Batch:   600, loss: 0.159\n",
            "Epoch: 7, Batch:   800, loss: 0.153\n",
            "Epoch: 7, Batch:  1000, loss: 0.171\n",
            "Epoch: 7, Batch:  1200, loss: 0.184\n",
            "Epoch: 7, Batch:  1400, loss: 0.166\n",
            "Epoch: 7, Batch:  1600, loss: 0.188\n",
            "Epoch: 7, Batch:  1800, loss: 0.189\n",
            "Epoch: 7, Batch:  2000, loss: 0.185\n",
            "Epoch: 8, Batch:   200, loss: 0.153\n",
            "Epoch: 8, Batch:   400, loss: 0.142\n",
            "Epoch: 8, Batch:   600, loss: 0.158\n",
            "Epoch: 8, Batch:   800, loss: 0.152\n",
            "Epoch: 8, Batch:  1000, loss: 0.158\n",
            "Epoch: 8, Batch:  1200, loss: 0.164\n",
            "Epoch: 8, Batch:  1400, loss: 0.169\n",
            "Epoch: 8, Batch:  1600, loss: 0.151\n",
            "Epoch: 8, Batch:  1800, loss: 0.169\n",
            "Epoch: 8, Batch:  2000, loss: 0.156\n",
            "Epoch: 9, Batch:   200, loss: 0.135\n",
            "Epoch: 9, Batch:   400, loss: 0.139\n",
            "Epoch: 9, Batch:   600, loss: 0.139\n",
            "Epoch: 9, Batch:   800, loss: 0.146\n",
            "Epoch: 9, Batch:  1000, loss: 0.141\n",
            "Epoch: 9, Batch:  1200, loss: 0.141\n",
            "Epoch: 9, Batch:  1400, loss: 0.152\n",
            "Epoch: 9, Batch:  1600, loss: 0.150\n",
            "Epoch: 9, Batch:  1800, loss: 0.147\n",
            "Epoch: 9, Batch:  2000, loss: 0.154\n",
            "Epoch: 10, Batch:   200, loss: 0.127\n",
            "Epoch: 10, Batch:   400, loss: 0.133\n",
            "Epoch: 10, Batch:   600, loss: 0.128\n",
            "Epoch: 10, Batch:   800, loss: 0.131\n",
            "Epoch: 10, Batch:  1000, loss: 0.145\n",
            "Epoch: 10, Batch:  1200, loss: 0.134\n",
            "Epoch: 10, Batch:  1400, loss: 0.146\n",
            "Epoch: 10, Batch:  1600, loss: 0.139\n",
            "Epoch: 10, Batch:  1800, loss: 0.138\n",
            "Epoch: 10, Batch:  2000, loss: 0.141\n",
            "Finished Training\n"
          ]
        }
      ]
    },
    {
      "cell_type": "markdown",
      "metadata": {
        "id": "RREjngOC_X2F"
      },
      "source": [
        "##3.2.6 Test Accuracy\n",
        "Let us look at how the network performs on the test dataset.  \n",
        "Report your accuracy in your report.\n",
        "\n"
      ]
    },
    {
      "cell_type": "code",
      "metadata": {
        "id": "QTyWZj2R_X2F",
        "colab": {
          "base_uri": "https://localhost:8080/"
        },
        "outputId": "22bb506a-554b-4e2e-e273-0d7b4261d94e"
      },
      "source": [
        "correct = 0\n",
        "total = 0\n",
        "with torch.no_grad():\n",
        "    for data in testloader:\n",
        "        images, labels = data\n",
        "        outputs = net(images)\n",
        "        _, predicted = torch.max(outputs.data, 1)\n",
        "        total += labels.size(0)\n",
        "        correct += (predicted == labels).sum().item()\n",
        "\n",
        "#TODO : Report this accuracy in your report.\n",
        "\n",
        "print('Accuracy of the network on the 10000 test images: %d %%' % (\n",
        "    100 * correct / total))"
      ],
      "execution_count": null,
      "outputs": [
        {
          "output_type": "stream",
          "name": "stdout",
          "text": [
            "Accuracy of the network on the 10000 test images: 90 %\n"
          ]
        }
      ]
    },
    {
      "cell_type": "markdown",
      "metadata": {
        "id": "FCCVNEjV_X2G"
      },
      "source": [
        "##3.2.7 Per Class accuracy\n",
        "Now we see the test accuracy for each class in the test dataset.  \n",
        "Report these accuracies in your report. Also identify the problematic classes.  \n",
        "Can you explain why these classes have significantly lower accuracies compared to other classes? Record your responses in your LaTeX file.\n"
      ]
    },
    {
      "cell_type": "code",
      "metadata": {
        "id": "CO9h7Zbd_X2H",
        "colab": {
          "base_uri": "https://localhost:8080/"
        },
        "outputId": "5cff00ab-8d87-4aab-a101-5851d89405f8"
      },
      "source": [
        "class_correct = list(0. for i in range(10))\n",
        "class_total = list(0. for i in range(10))\n",
        "with torch.no_grad():\n",
        "    for data in testloader:\n",
        "        images, labels = data\n",
        "        outputs = net(images)\n",
        "        _, predicted = torch.max(outputs, 1)\n",
        "        c = (predicted == labels).squeeze()\n",
        "        for i in range(4):\n",
        "            label = labels[i]\n",
        "            class_correct[label] += c[i].item()\n",
        "            class_total[label] += 1\n",
        "\n",
        "\n",
        "for i in range(10):\n",
        "    print('Accuracy of %5s : %2d %%' % (\n",
        "        classes[i], 100 * class_correct[i] / class_total[i]))"
      ],
      "execution_count": null,
      "outputs": [
        {
          "output_type": "stream",
          "name": "stdout",
          "text": [
            "Accuracy of T-shirt/top : 82 %\n",
            "Accuracy of Trouser : 98 %\n",
            "Accuracy of Pullover : 90 %\n",
            "Accuracy of Dress : 93 %\n",
            "Accuracy of  Coat : 78 %\n",
            "Accuracy of Sandal : 96 %\n",
            "Accuracy of Shirt : 73 %\n",
            "Accuracy of Sneaker : 99 %\n",
            "Accuracy of   Bag : 100 %\n",
            "Accuracy of Ankle boot : 93 %\n"
          ]
        }
      ]
    },
    {
      "cell_type": "markdown",
      "metadata": {
        "id": "hnvvXuO2z-kt"
      },
      "source": [
        "\n",
        "# Turning it in\n",
        "\n",
        "**This notebook will not be autograded, so no need to comment out code outside of functions.**\n",
        "\n",
        "1. Download this notebook as a `hw4.py` file with the functions implemented and the sandbox code commented out\n",
        "  - go to \"File -> Download .py\"\n",
        "  \n",
        "2. Submit `hw4.py` file to Gradescope (you can do this as many times as you'd like before the deadline)"
      ]
    }
  ]
}
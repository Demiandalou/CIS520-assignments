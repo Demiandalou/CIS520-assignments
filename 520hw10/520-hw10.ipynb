{
 "cells": [
  {
   "cell_type": "code",
   "execution_count": 15,
   "metadata": {},
   "outputs": [
    {
     "name": "stdout",
     "output_type": "stream",
     "text": [
      "2 [6.504000000000001, 6.504000000000001, 6.601200000000001, 8.419200000000002, 13.2192]\n",
      "['b', 'b', 'b', 'f', 'f']\n",
      "20 [21.820271216228214, 22.160902693208346, 24.054838902749392, 27.510838902749388, 32.31083890274939]\n",
      "['b', 'b', 'f', 'f', 'f']\n",
      "50 [24.4962169906502, 24.83772084035318, 26.73496446599681, 30.190964465996807, 34.99096446599681]\n",
      "['b', 'b', 'f', 'f', 'f']\n",
      "100 [24.614096275342582, 24.955600134217995, 26.85284379463696, 30.308843794636957, 35.10884379463696]\n",
      "['b', 'b', 'f', 'f', 'f']\n",
      "190 [24.6147068994565, 24.956210758331913, 26.85345441875088, 30.309454418750878, 35.109454418750886]\n",
      "['b', 'b', 'f', 'f', 'f']\n",
      "200 [24.6147069297555, 24.956210788630912, 26.85345444904988, 30.30945444904988, 35.10945444904988]\n",
      "['b', 'b', 'f', 'f', 'f']\n"
     ]
    }
   ],
   "source": [
    "#################### Question 1(2,3) ####################\n",
    "prev_values=[0 for i in range(5)]\n",
    "cur_values=[0 for i in range(5)]\n",
    "opt_policy=['' for i in range(5)]\n",
    "gamma_ = 0.9\n",
    "iters=201\n",
    "\n",
    "def find_p(s,a,sn):\n",
    "    if a=='f':\n",
    "        if sn > s or (s==4 and sn==4):\n",
    "            return 0.8\n",
    "        else:\n",
    "            return 0.2\n",
    "    elif a=='b':\n",
    "        if sn == 0:\n",
    "            return 0.8\n",
    "        else:\n",
    "            return 0.2\n",
    "    print(s,a,sn)\n",
    "    return None\n",
    "\n",
    "def find_r(s,a,sn):\n",
    "    if sn > s:\n",
    "        return 0\n",
    "    elif sn == s and s==4:\n",
    "        return 6\n",
    "    elif sn == 0:\n",
    "        return 3\n",
    "    print(s,a,sn)\n",
    "    return None\n",
    "\n",
    "for t in range(iters):\n",
    "    for i in range(5):\n",
    "        sns = [0,min(4,i+1)]\n",
    "        f = sum([ find_p(i,'f',sn) * (find_r(i,'f',sn) + gamma_ * prev_values[sn] ) for sn in sns]) # if forward\n",
    "        b = sum([ find_p(i,'b',sn) * (find_r(i,'b',sn) + gamma_ * prev_values[sn] ) for sn in sns]) # if backward\n",
    "        # if i==4:\n",
    "        #     print('f',[ find_p(i,'f',sn) * (find_r(i,'f',sn) + gamma_ * prev_values[sn] ) for sn in sns])\n",
    "        #     print('b',[ find_p(i,'b',sn) * (find_r(i,'b',sn) + gamma_ * prev_values[sn] ) for sn in sns])\n",
    "        #     break\n",
    "\n",
    "        cur_values[i] = max(f,b) # max_a\n",
    "        if t in [2, 20, 50, 100,190,200]:\n",
    "            if cur_values[i] == f:\n",
    "                opt_policy[i] += 'f'\n",
    "            if cur_values[i] == b:\n",
    "                opt_policy[i] += 'b'\n",
    "    prev_values=cur_values[:]\n",
    "    if t in [2, 20, 50, 100,190,200]:\n",
    "        print(t, cur_values)\n",
    "        print(opt_policy)\n",
    "        opt_policy=['' for i in range(5)]\n",
    "    # if t==100:\n",
    "        # print(opt_policy)\n"
   ]
  },
  {
   "cell_type": "code",
   "execution_count": null,
   "metadata": {},
   "outputs": [],
   "source": []
  }
 ],
 "metadata": {
  "interpreter": {
   "hash": "40d3a090f54c6569ab1632332b64b2c03c39dcf918b08424e98f38b5ae0af88f"
  },
  "kernelspec": {
   "display_name": "Python 3.8.8 64-bit ('base': conda)",
   "language": "python",
   "name": "python3"
  },
  "language_info": {
   "codemirror_mode": {
    "name": "ipython",
    "version": 3
   },
   "file_extension": ".py",
   "mimetype": "text/x-python",
   "name": "python",
   "nbconvert_exporter": "python",
   "pygments_lexer": "ipython3",
   "version": "3.8.8"
  },
  "orig_nbformat": 4
 },
 "nbformat": 4,
 "nbformat_minor": 2
}
